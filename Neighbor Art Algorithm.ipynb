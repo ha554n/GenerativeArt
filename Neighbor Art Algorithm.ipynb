{
 "cells": [
  {
   "cell_type": "markdown",
   "id": "3dc9b551",
   "metadata": {},
   "source": [
    "# Motivation"
   ]
  },
  {
   "cell_type": "markdown",
   "id": "86562981",
   "metadata": {},
   "source": [
    "The purpose of this code is to create a generative art algorithm with the following logic:\n",
    "\n",
    "1. gather a list of $m$ colors\n",
    "2. create 3D matrix of size $n$ to hold color values\n",
    "3. randomly seed $m$ colors into the matrix\n",
    "4. pick a new point $(x,y)$ on the matrix\n",
    "5. look at $k$ neighboring points and compute the count of each of the color values\n",
    "6. set the newly picked point as the maximum of the color values in its neighbors\n",
    "7. if there are no neighbors, or no maximum, pick randomly from $m$ and set as color\n",
    "\n",
    "repeat steps 4 to 7 untill all positions on the matrix are filled\n",
    "\n"
   ]
  },
  {
   "cell_type": "markdown",
   "id": "9b6fa2a9",
   "metadata": {},
   "source": [
    "Once this is done, symmetry can be incorp0orated"
   ]
  },
  {
   "cell_type": "markdown",
   "id": "51cecfe0",
   "metadata": {},
   "source": [
    "# Imports"
   ]
  },
  {
   "cell_type": "code",
   "execution_count": 1,
   "id": "29471639",
   "metadata": {
    "ExecuteTime": {
     "end_time": "2022-02-21T19:52:09.803971Z",
     "start_time": "2022-02-21T19:52:06.720918Z"
    }
   },
   "outputs": [],
   "source": [
    "import cv2 \n",
    "import imutils\n",
    "import numpy as np\n",
    "import matplotlib.pyplot as plt\n",
    "from tqdm import tqdm\n",
    "from scipy.spatial.distance import cdist\n",
    "import seaborn as sns\n",
    "from skimage import io\n",
    "from PIL import Image\n",
    "from itertools import combinations, permutations"
   ]
  },
  {
   "cell_type": "markdown",
   "id": "b320e653",
   "metadata": {},
   "source": [
    "# Explore Functionality"
   ]
  },
  {
   "cell_type": "markdown",
   "id": "3af3aa5d",
   "metadata": {},
   "source": [
    "## without neighbor influence (random filling)"
   ]
  },
  {
   "cell_type": "code",
   "execution_count": 12,
   "id": "a68a26a5",
   "metadata": {
    "ExecuteTime": {
     "end_time": "2022-02-21T16:50:12.345154Z",
     "start_time": "2022-02-21T16:50:12.333033Z"
    }
   },
   "outputs": [],
   "source": [
    "#create a 3d image\n",
    "empty_img=np.zeros((10,10,3))"
   ]
  },
  {
   "cell_type": "code",
   "execution_count": 13,
   "id": "4b0ab223",
   "metadata": {
    "ExecuteTime": {
     "end_time": "2022-02-21T16:50:13.364584Z",
     "start_time": "2022-02-21T16:50:13.346598Z"
    }
   },
   "outputs": [
    {
     "data": {
      "text/plain": [
       "(10, 10, 3)"
      ]
     },
     "execution_count": 13,
     "metadata": {},
     "output_type": "execute_result"
    }
   ],
   "source": [
    "np.shape(empty_img)"
   ]
  },
  {
   "cell_type": "code",
   "execution_count": 14,
   "id": "46c5530a",
   "metadata": {
    "ExecuteTime": {
     "end_time": "2022-02-21T16:50:15.020164Z",
     "start_time": "2022-02-21T16:50:14.819959Z"
    }
   },
   "outputs": [
    {
     "data": {
      "text/plain": [
       "<matplotlib.image.AxesImage at 0x1c950a043a0>"
      ]
     },
     "execution_count": 14,
     "metadata": {},
     "output_type": "execute_result"
    },
    {
     "data": {
      "image/png": "[encoded data removed]",
      "text/plain": [
       "<Figure size 432x288 with 1 Axes>"
      ]
     },
     "metadata": {
      "needs_background": "light"
     },
     "output_type": "display_data"
    }
   ],
   "source": [
    "plt.imshow(empty_img)"
   ]
  },
  {
   "cell_type": "markdown",
   "id": "29945780",
   "metadata": {},
   "source": [
    "https://bic-berkeley.github.io/psych-214-fall-2016/numpy_meshgrid.html"
   ]
  },
  {
   "cell_type": "code",
   "execution_count": 39,
   "id": "8a5b965c",
   "metadata": {
    "ExecuteTime": {
     "end_time": "2022-02-17T15:54:50.412151Z",
     "start_time": "2022-02-17T15:54:50.398180Z"
    }
   },
   "outputs": [],
   "source": [
    "i_coords, j_coords = np.meshgrid(range(10), range(10), indexing='ij')"
   ]
  },
  {
   "cell_type": "code",
   "execution_count": 17,
   "id": "fb84744c",
   "metadata": {
    "ExecuteTime": {
     "end_time": "2022-02-21T16:50:56.981995Z",
     "start_time": "2022-02-21T16:50:56.964151Z"
    }
   },
   "outputs": [],
   "source": [
    "#coordinates list\n",
    "perms=[i for i in permutations(np.arange(0,10),2)]\n",
    "perms=perms+(list(zip(np.arange(10), np.arange(10))))\n"
   ]
  },
  {
   "cell_type": "code",
   "execution_count": 57,
   "id": "fa23b25c",
   "metadata": {
    "ExecuteTime": {
     "end_time": "2022-02-17T16:00:54.185111Z",
     "start_time": "2022-02-17T16:00:54.174012Z"
    }
   },
   "outputs": [
    {
     "data": {
      "text/plain": [
       "100"
      ]
     },
     "execution_count": 57,
     "metadata": {},
     "output_type": "execute_result"
    }
   ],
   "source": [
    "len(perms)"
   ]
  },
  {
   "cell_type": "code",
   "execution_count": 18,
   "id": "07283406",
   "metadata": {
    "ExecuteTime": {
     "end_time": "2022-02-21T16:50:58.402401Z",
     "start_time": "2022-02-21T16:50:58.396416Z"
    }
   },
   "outputs": [],
   "source": [
    "# pick 3 non-overlapping random points as seeds\n",
    "try:\n",
    "    [s1, s2, s3]= np.random.choice(10,3, replace=False)\n",
    "    s1=perms[s1]\n",
    "    s2=perms[s2]\n",
    "    s3=perms[s3]\n",
    "except IndexError:\n",
    "    print(s1)\n",
    "    print(s2)\n",
    "    print(s3)"
   ]
  },
  {
   "cell_type": "code",
   "execution_count": 59,
   "id": "9560eacf",
   "metadata": {
    "ExecuteTime": {
     "end_time": "2022-02-17T16:01:10.641642Z",
     "start_time": "2022-02-17T16:01:10.629674Z"
    }
   },
   "outputs": [],
   "source": [
    "#color seeds\n",
    "empty_img[s1[0],s1[1],:]=[1,0,0]#set to red\n",
    "empty_img[s2[0],s2[1],:]=[0,1,0]#set to blue\n",
    "empty_img[s3[0],s3[1],:]=[0,0,1]#set to green\n"
   ]
  },
  {
   "cell_type": "code",
   "execution_count": 19,
   "id": "8807ce51",
   "metadata": {
    "ExecuteTime": {
     "end_time": "2022-02-21T16:51:00.618455Z",
     "start_time": "2022-02-21T16:51:00.419610Z"
    }
   },
   "outputs": [
    {
     "data": {
      "text/plain": [
       "<matplotlib.image.AxesImage at 0x1c950b59b80>"
      ]
     },
     "execution_count": 19,
     "metadata": {},
     "output_type": "execute_result"
    },
    {
     "data": {
      "image/png": "[encoded data removed]",
      "text/plain": [
       "<Figure size 432x288 with 1 Axes>"
      ]
     },
     "metadata": {
      "needs_background": "light"
     },
     "output_type": "display_data"
    }
   ],
   "source": [
    "lenperm=len(perms)\n",
    "while lenperm>0:\n",
    "    try:\n",
    "        [s1, s2, s3]= np.random.choice(100,3, replace=False)\n",
    "        s1=perms[s1]\n",
    "        s2=perms[s2]\n",
    "        s3=perms[s3]\n",
    "        \n",
    "    except IndexError:\n",
    "        print(s1)\n",
    "        print(s2)\n",
    "        print(s3)\n",
    "    empty_img[s1[0],s1[1],:]=[1,0,0]#set to red\n",
    "    empty_img[s2[0],s2[1],:]=[0,1,0]#set to blue\n",
    "    empty_img[s3[0],s3[1],:]=[0,0,1]#set to green\n",
    "    lenperm-=1\n",
    "plt.imshow(empty_img)"
   ]
  },
  {
   "cell_type": "markdown",
   "id": "ad231a35",
   "metadata": {},
   "source": [
    "Just a random shuffling of colors could be done faster by making an flat array of colors that are then shuffled and reshaped"
   ]
  },
  {
   "cell_type": "markdown",
   "id": "31d444cb",
   "metadata": {},
   "source": [
    "## random with 1 by 1 tiling"
   ]
  },
  {
   "cell_type": "code",
   "execution_count": 78,
   "id": "5028d4f7",
   "metadata": {
    "ExecuteTime": {
     "end_time": "2022-02-17T16:07:54.698848Z",
     "start_time": "2022-02-17T16:07:54.678908Z"
    }
   },
   "outputs": [],
   "source": [
    "size=10\n",
    "empty_img=np.zeros((size,size,3))\n",
    "perms=[i for i in permutations(np.arange(0,size),2)]\n",
    "perms=perms+list(zip(np.arange(size), np.arange(size)))"
   ]
  },
  {
   "cell_type": "code",
   "execution_count": 509,
   "id": "d88dc8c7",
   "metadata": {
    "ExecuteTime": {
     "end_time": "2022-02-17T20:56:26.468636Z",
     "start_time": "2022-02-17T20:56:26.446421Z"
    },
    "code_folding": []
   },
   "outputs": [],
   "source": [
    "class RandomFill:\n",
    "    def __init__(self, size):\n",
    "        self.size=size\n",
    "        #create empty img\n",
    "        self.empty_img=np.zeros((self.size,self.size,3))\n",
    "        #create self.perms\n",
    "        self.perms=[i for i in permutations(np.arange(0,self.size),2)]\n",
    "        self.perms=self.perms+list(zip(np.arange(self.size), np.arange(self.size)))\n",
    "        np.random.shuffle(self.perms)\n",
    "        rng = np.random.default_rng()\n",
    "        self.colorlist=[[0,0,1], [0,1,0],[1,0,0]]\n",
    "        #seed\n",
    "    def seedColors(self):\n",
    "        #should automatically populate with # of colors in self.colorlist\n",
    "        \n",
    "        self.empty_img[self.perms[0]]=self.colorlist[2]#set to red\n",
    "        self.empty_img[self.perms[1]]=self.colorlist[1]#set to blue\n",
    "        self.empty_img[self.perms[2]]=self.colorlist[0]#set to green\n",
    "    \n",
    "    def pickRandomColor(self):\n",
    "        return(rng.choice(self.colorlist))\n",
    "        \n",
    "    def paintPixel(self, i, color):\n",
    "        self.empty_img[i]=color\n",
    "        return(None)\n",
    "    \n",
    "    def paintRandomly(self):\n",
    "        for i in self.perms[3:]:\n",
    "            self.paintPixel(i, self.pickRandomColor())\n"
   ]
  },
  {
   "cell_type": "code",
   "execution_count": 511,
   "id": "b24eed90",
   "metadata": {
    "ExecuteTime": {
     "end_time": "2022-02-17T20:56:30.611769Z",
     "start_time": "2022-02-17T20:56:30.416554Z"
    }
   },
   "outputs": [
    {
     "data": {
      "text/plain": [
       "<matplotlib.image.AxesImage at 0x22721935490>"
      ]
     },
     "execution_count": 511,
     "metadata": {},
     "output_type": "execute_result"
    },
    {
     "data": {
      "image/png": "[encoded data removed]",
      "text/plain": [
       "<Figure size 432x288 with 1 Axes>"
      ]
     },
     "metadata": {
      "needs_background": "light"
     },
     "output_type": "display_data"
    }
   ],
   "source": [
    "r=RandomFill(6)\n",
    "r.seedColors()\n",
    "# r.paintRandomly()\n",
    "plt.imshow(r.empty_img)"
   ]
  },
  {
   "cell_type": "markdown",
   "id": "3e00a054",
   "metadata": {},
   "source": [
    "# Fill With k neighbors"
   ]
  },
  {
   "cell_type": "markdown",
   "id": "ca8f37a7",
   "metadata": {},
   "source": [
    "## get neighbors"
   ]
  },
  {
   "cell_type": "code",
   "execution_count": 351,
   "id": "19fc37e0",
   "metadata": {
    "ExecuteTime": {
     "end_time": "2022-02-17T19:48:38.052383Z",
     "start_time": "2022-02-17T19:48:37.873820Z"
    }
   },
   "outputs": [
    {
     "data": {
      "text/plain": [
       "<matplotlib.image.AxesImage at 0x2271efe5e50>"
      ]
     },
     "execution_count": 351,
     "metadata": {},
     "output_type": "execute_result"
    },
    {
     "data": {
      "image/png": "[encoded data removed]",
      "text/plain": [
       "<Figure size 432x288 with 1 Axes>"
      ]
     },
     "metadata": {
      "needs_background": "light"
     },
     "output_type": "display_data"
    }
   ],
   "source": [
    "coordinate=(2,3)\n",
    "k=1\n",
    "\n",
    "cindx1=coordinate[0]-k\n",
    "cindx2=coordinate[0]+(k+1)\n",
    "\n",
    "cindy1=coordinate[1]-k\n",
    "cindy2=coordinate[1]+(k+1)\n",
    "\n",
    "kernel=r.empty_img[cindx1:cindx2,cindy1:cindy2,:]\n",
    "plt.imshow(kernel)"
   ]
  },
  {
   "cell_type": "code",
   "execution_count": 353,
   "id": "53ff9818",
   "metadata": {
    "ExecuteTime": {
     "end_time": "2022-02-17T19:48:47.415580Z",
     "start_time": "2022-02-17T19:48:47.408595Z"
    }
   },
   "outputs": [],
   "source": [
    "im=Image.fromarray(np.uint8(kernel))\n",
    "w, h = im.size  \n",
    "colors = im.getcolors(w*h)"
   ]
  },
  {
   "cell_type": "code",
   "execution_count": 361,
   "id": "ddb2771d",
   "metadata": {
    "ExecuteTime": {
     "end_time": "2022-02-17T19:51:34.974726Z",
     "start_time": "2022-02-17T19:51:34.954779Z"
    }
   },
   "outputs": [
    {
     "data": {
      "text/plain": [
       "[(6, (0, 0, 1)), (1, (1, 0, 0)), (2, (0, 1, 0))]"
      ]
     },
     "execution_count": 361,
     "metadata": {},
     "output_type": "execute_result"
    }
   ],
   "source": [
    "colors"
   ]
  },
  {
   "cell_type": "code",
   "execution_count": 364,
   "id": "74d79327",
   "metadata": {
    "ExecuteTime": {
     "end_time": "2022-02-17T19:51:46.232624Z",
     "start_time": "2022-02-17T19:51:46.224636Z"
    }
   },
   "outputs": [],
   "source": [
    "colSorted=sorted(colors, key=lambda tup: tup[0]) "
   ]
  },
  {
   "cell_type": "code",
   "execution_count": 369,
   "id": "539d6bbb",
   "metadata": {
    "ExecuteTime": {
     "end_time": "2022-02-17T19:52:15.841715Z",
     "start_time": "2022-02-17T19:52:15.825729Z"
    }
   },
   "outputs": [
    {
     "data": {
      "text/plain": [
       "(0, 0, 1)"
      ]
     },
     "execution_count": 369,
     "metadata": {},
     "output_type": "execute_result"
    }
   ],
   "source": [
    "colSorted[-1][1]"
   ]
  },
  {
   "cell_type": "markdown",
   "id": "25883ad5",
   "metadata": {},
   "source": [
    "what if run into edge"
   ]
  },
  {
   "cell_type": "code",
   "execution_count": 513,
   "id": "62ce003d",
   "metadata": {
    "ExecuteTime": {
     "end_time": "2022-02-17T20:56:56.075941Z",
     "start_time": "2022-02-17T20:56:55.839574Z"
    }
   },
   "outputs": [
    {
     "data": {
      "text/plain": [
       "<matplotlib.image.AxesImage at 0x2271f979f40>"
      ]
     },
     "execution_count": 513,
     "metadata": {},
     "output_type": "execute_result"
    },
    {
     "data": {
      "image/png": "[encoded data removed]",
      "text/plain": [
       "<Figure size 432x288 with 1 Axes>"
      ]
     },
     "metadata": {
      "needs_background": "light"
     },
     "output_type": "display_data"
    }
   ],
   "source": [
    "[rows, cols, depth]=np.shape(r.empty_img)\n",
    "coordinate=(2,2)\n",
    "k=1\n",
    "cindx1=coordinate[0]-k\n",
    "if cindx1<0:\n",
    "    cindx1=0\n",
    "cindx2=coordinate[0]+(k+1)\n",
    "if cindx2>rows:\n",
    "    cindx2=rows\n",
    "cindy1=coordinate[1]-k\n",
    "if cindy1<0:\n",
    "    cindy1=0\n",
    "cindy2=coordinate[1]+(k+1)\n",
    "if cindy2>cols:\n",
    "    cindy2=cols\n",
    "    \n",
    "kernel=r.empty_img[cindx1:cindx2,cindy1:cindy2,:]\n",
    "plt.imshow(kernel)"
   ]
  },
  {
   "cell_type": "code",
   "execution_count": 636,
   "id": "b65e26fa",
   "metadata": {
    "ExecuteTime": {
     "end_time": "2022-02-17T21:33:59.136309Z",
     "start_time": "2022-02-17T21:33:59.124364Z"
    }
   },
   "outputs": [],
   "source": [
    "def returnKernel(img,cord,k):\n",
    "    [rows, cols, depth]=np.shape(img)\n",
    "    cindx1=cord[0]-k\n",
    "    if cindx1<0:\n",
    "        cindx1=0\n",
    "    cindx2=cord[0]+(k+1)\n",
    "    if cindx2>rows:\n",
    "        cindx2=rows\n",
    "    cindy1=cord[1]-k\n",
    "    if cindy1<0:\n",
    "        cindy1=0\n",
    "    cindy2=cord[1]+(k+1)\n",
    "    if cindy2>cols:\n",
    "        cindy2=cols\n",
    "\n",
    "    kernel=img[cindx1:cindx2,cindy1:cindy2,:]\n",
    "    \n",
    "    return(kernel)"
   ]
  },
  {
   "cell_type": "code",
   "execution_count": 637,
   "id": "d2e56fce",
   "metadata": {
    "ExecuteTime": {
     "end_time": "2022-02-17T21:34:00.389696Z",
     "start_time": "2022-02-17T21:34:00.186564Z"
    }
   },
   "outputs": [
    {
     "data": {
      "text/plain": [
       "<matplotlib.image.AxesImage at 0x2272a93a3d0>"
      ]
     },
     "execution_count": 637,
     "metadata": {},
     "output_type": "execute_result"
    },
    {
     "data": {
      "image/png": "[encoded data removed]",
      "text/plain": [
       "<Figure size 432x288 with 1 Axes>"
      ]
     },
     "metadata": {
      "needs_background": "light"
     },
     "output_type": "display_data"
    }
   ],
   "source": [
    "plt.imshow(returnKernel(r.empty_img,(2,2),1))"
   ]
  },
  {
   "cell_type": "code",
   "execution_count": 638,
   "id": "bf03879e",
   "metadata": {
    "ExecuteTime": {
     "end_time": "2022-02-17T21:34:06.209553Z",
     "start_time": "2022-02-17T21:34:06.194692Z"
    }
   },
   "outputs": [],
   "source": [
    "def getColorDist(img):\n",
    "    im=Image.fromarray(np.uint8(img))\n",
    "    w, h = im.size  \n",
    "    colorDist = im.getcolors(w*h)\n",
    "    #drop black\n",
    "    colorDist= [i for i in colorDist if i[1]!=(0,0,0)]\n",
    "    return(colorDist)"
   ]
  },
  {
   "cell_type": "code",
   "execution_count": 641,
   "id": "82889009",
   "metadata": {
    "ExecuteTime": {
     "end_time": "2022-02-17T21:34:27.996548Z",
     "start_time": "2022-02-17T21:34:27.978011Z"
    }
   },
   "outputs": [
    {
     "data": {
      "text/plain": [
       "[(1, (1, 0, 0))]"
      ]
     },
     "execution_count": 641,
     "metadata": {},
     "output_type": "execute_result"
    }
   ],
   "source": [
    "getColorDist(returnKernel(r.empty_img,(2,2),1))\n"
   ]
  },
  {
   "cell_type": "code",
   "execution_count": 687,
   "id": "6266a3e1",
   "metadata": {
    "ExecuteTime": {
     "end_time": "2022-02-17T21:46:09.183976Z",
     "start_time": "2022-02-17T21:46:09.171815Z"
    }
   },
   "outputs": [],
   "source": [
    "mykernel=returnKernel(r.empty_img,(2,2),1)"
   ]
  },
  {
   "cell_type": "code",
   "execution_count": 665,
   "id": "e3f0e074",
   "metadata": {
    "ExecuteTime": {
     "end_time": "2022-02-17T21:39:17.643091Z",
     "start_time": "2022-02-17T21:39:17.612039Z"
    }
   },
   "outputs": [
    {
     "ename": "ValueError",
     "evalue": "Too many dimensions: 3 > 2.",
     "output_type": "error",
     "traceback": [
      "\u001b[1;31m---------------------------------------------------------------------------\u001b[0m",
      "\u001b[1;31mValueError\u001b[0m                                Traceback (most recent call last)",
      "\u001b[1;32m<ipython-input-665-1e4504071ef4>\u001b[0m in \u001b[0;36m<module>\u001b[1;34m\u001b[0m\n\u001b[1;32m----> 1\u001b[1;33m \u001b[0mim\u001b[0m\u001b[1;33m=\u001b[0m\u001b[0mImage\u001b[0m\u001b[1;33m.\u001b[0m\u001b[0mfromarray\u001b[0m\u001b[1;33m(\u001b[0m\u001b[0mnp\u001b[0m\u001b[1;33m.\u001b[0m\u001b[0masarray\u001b[0m\u001b[1;33m(\u001b[0m\u001b[0mmykernel\u001b[0m\u001b[1;33m)\u001b[0m\u001b[1;33m,\u001b[0m \u001b[0mmode\u001b[0m\u001b[1;33m=\u001b[0m\u001b[1;34m'I'\u001b[0m\u001b[1;33m)\u001b[0m\u001b[1;33m\u001b[0m\u001b[1;33m\u001b[0m\u001b[0m\n\u001b[0m",
      "\u001b[1;32m~\\anaconda3\\lib\\site-packages\\PIL\\Image.py\u001b[0m in \u001b[0;36mfromarray\u001b[1;34m(obj, mode)\u001b[0m\n\u001b[0;32m   2782\u001b[0m         \u001b[0mndmax\u001b[0m \u001b[1;33m=\u001b[0m \u001b[1;36m4\u001b[0m\u001b[1;33m\u001b[0m\u001b[1;33m\u001b[0m\u001b[0m\n\u001b[0;32m   2783\u001b[0m     \u001b[1;32mif\u001b[0m \u001b[0mndim\u001b[0m \u001b[1;33m>\u001b[0m \u001b[0mndmax\u001b[0m\u001b[1;33m:\u001b[0m\u001b[1;33m\u001b[0m\u001b[1;33m\u001b[0m\u001b[0m\n\u001b[1;32m-> 2784\u001b[1;33m         \u001b[1;32mraise\u001b[0m \u001b[0mValueError\u001b[0m\u001b[1;33m(\u001b[0m\u001b[1;34mf\"Too many dimensions: {ndim} > {ndmax}.\"\u001b[0m\u001b[1;33m)\u001b[0m\u001b[1;33m\u001b[0m\u001b[1;33m\u001b[0m\u001b[0m\n\u001b[0m\u001b[0;32m   2785\u001b[0m \u001b[1;33m\u001b[0m\u001b[0m\n\u001b[0;32m   2786\u001b[0m     \u001b[0msize\u001b[0m \u001b[1;33m=\u001b[0m \u001b[1;36m1\u001b[0m \u001b[1;32mif\u001b[0m \u001b[0mndim\u001b[0m \u001b[1;33m==\u001b[0m \u001b[1;36m1\u001b[0m \u001b[1;32melse\u001b[0m \u001b[0mshape\u001b[0m\u001b[1;33m[\u001b[0m\u001b[1;36m1\u001b[0m\u001b[1;33m]\u001b[0m\u001b[1;33m,\u001b[0m \u001b[0mshape\u001b[0m\u001b[1;33m[\u001b[0m\u001b[1;36m0\u001b[0m\u001b[1;33m]\u001b[0m\u001b[1;33m\u001b[0m\u001b[1;33m\u001b[0m\u001b[0m\n",
      "\u001b[1;31mValueError\u001b[0m: Too many dimensions: 3 > 2."
     ]
    }
   ],
   "source": [
    "im=Image.fromarray(np.asarray(mykernel), mode='')"
   ]
  },
  {
   "cell_type": "code",
   "execution_count": 661,
   "id": "a73eeda1",
   "metadata": {
    "ExecuteTime": {
     "end_time": "2022-02-17T21:38:34.919593Z",
     "start_time": "2022-02-17T21:38:34.898336Z"
    }
   },
   "outputs": [
    {
     "data": {
      "text/plain": [
       "[(9, (0, 0, 0))]"
      ]
     },
     "execution_count": 661,
     "metadata": {},
     "output_type": "execute_result"
    }
   ],
   "source": [
    "im.getcolors(w*h)"
   ]
  },
  {
   "cell_type": "code",
   "execution_count": 402,
   "id": "ec3869eb",
   "metadata": {
    "ExecuteTime": {
     "end_time": "2022-02-17T20:31:05.509369Z",
     "start_time": "2022-02-17T20:31:05.492414Z"
    }
   },
   "outputs": [],
   "source": [
    "def sortColorDist(colorDist):\n",
    "    colorSorted=sorted(colorDist, key=lambda tup: tup[0]) \n",
    "    return(colorSorted[-1][1])"
   ]
  },
  {
   "cell_type": "code",
   "execution_count": 403,
   "id": "c1cb310a",
   "metadata": {
    "ExecuteTime": {
     "end_time": "2022-02-17T20:31:07.771387Z",
     "start_time": "2022-02-17T20:31:07.749446Z"
    }
   },
   "outputs": [
    {
     "data": {
      "text/plain": [
       "(1, 0, 0)"
      ]
     },
     "execution_count": 403,
     "metadata": {},
     "output_type": "execute_result"
    }
   ],
   "source": [
    "sortColorDist(getColorDist(returnKernel(r.empty_img,(5,5),1)))"
   ]
  },
  {
   "cell_type": "markdown",
   "id": "c2c9188a",
   "metadata": {},
   "source": [
    "## new class for neighbor fill"
   ]
  },
  {
   "cell_type": "code",
   "execution_count": 6,
   "id": "d32b7c27",
   "metadata": {
    "ExecuteTime": {
     "end_time": "2022-02-18T16:49:10.349614Z",
     "start_time": "2022-02-18T16:49:10.327007Z"
    }
   },
   "outputs": [],
   "source": [
    "class NeighborFill:\n",
    "    def __init__(self, size, colorlist):\n",
    "        self.size=size\n",
    "        #create empty img\n",
    "        self.empty_img=np.zeros((self.size,self.size,3))\n",
    "        #create self.perms\n",
    "        self.perms=[i for i in permutations(np.arange(0,self.size),2)]\n",
    "        self.perms=self.perms+list(zip(np.arange(self.size), np.arange(self.size)))\n",
    "        np.random.shuffle(self.perms)\n",
    "        self.rng = np.random.default_rng()\n",
    "        self.colorlist=colorlist\n",
    "        \n",
    "        #seed\n",
    "        \n",
    "    def seedColors(self):\n",
    "        #should automatically populate with # of colors in self.colorlist\n",
    "        for i in np.arange(len(self.colorlist)):\n",
    "            self.empty_img[self.perms[i]]=self.colorlist[i]\n",
    "\n",
    "    \n",
    "    def pickRandomColor(self):\n",
    "        return(self.rng.choice(self.colorlist))\n",
    "        \n",
    "    def paintPixel(self, i, color):\n",
    "        self.empty_img[i]=color\n",
    "        return(None)\n",
    "    \n",
    "    def paintRandomly(self):\n",
    "        for i in self.perms[3:]:\n",
    "            self.paintPixel(i, self.pickRandomColor())\n",
    "            \n",
    "    def returnKernel(self,img,cord,k):\n",
    "        [rows, cols, depth]=np.shape(img)\n",
    "        \n",
    "        cindx1=cord[0]-k\n",
    "        if cindx1<0:\n",
    "            cindx1=0\n",
    "        cindx2=cord[0]+(k+1)\n",
    "        if cindx2>rows:\n",
    "            cindx2=rows\n",
    "        cindy1=cord[1]-k\n",
    "        if cindy1<0:\n",
    "            cindy1=0\n",
    "        cindy2=cord[1]+(k+1)\n",
    "        if cindy2>cols:\n",
    "            cindy2=cols\n",
    "\n",
    "        kernel=img[cindx1:cindx2,cindy1:cindy2,:]\n",
    "    \n",
    "        return(kernel)\n",
    "    \n",
    "    def getColorDist(self,kernel):\n",
    "        im=kernel.astype(np.uint8)\n",
    "        im=Image.fromarray(im, 'RGB')\n",
    "        w, h = im.size  \n",
    "        colorDist = im.getcolors(w*h)\n",
    "#         print('colorDist all')\n",
    "#         print(colorDist)\n",
    "        #drop black\n",
    "        colorDist= [i for i in colorDist if i[1]!=(0,0,0)]\n",
    "#         print('colorDist w/o black')\n",
    "#         print(colorDist)\n",
    "        return(colorDist)\n",
    "    \n",
    "    def sortColorDist(self, colorDist):\n",
    "        if not colorDist:\n",
    "            topColor=self.pickRandomColor()\n",
    "        else:\n",
    "            colorSorted=sorted(colorDist, key=lambda tup: tup[0]) \n",
    "            topColor=colorSorted[-1][1]\n",
    "        return(topColor)\n",
    "    \n",
    "    \n",
    "    def paintbyNeighbor(self,k):\n",
    "        for i in self.perms[3:]:\n",
    "            maxColor=self.sortColorDist(self.getColorDist(self.returnKernel(self.empty_img,i,k)))\n",
    "            self.paintPixel(i, maxColor)\n",
    "            "
   ]
  },
  {
   "cell_type": "code",
   "execution_count": 29,
   "id": "2b0d2ef8",
   "metadata": {
    "ExecuteTime": {
     "end_time": "2022-02-18T16:58:40.392379Z",
     "start_time": "2022-02-18T16:58:39.757247Z"
    }
   },
   "outputs": [
    {
     "data": {
      "text/plain": [
       "<matplotlib.image.AxesImage at 0x1810c6cbc40>"
      ]
     },
     "execution_count": 29,
     "metadata": {},
     "output_type": "execute_result"
    },
    {
     "data": {
      "image/png": "[encoded data removed]",
      "text/plain": [
       "<Figure size 432x288 with 1 Axes>"
      ]
     },
     "metadata": {
      "needs_background": "light"
     },
     "output_type": "display_data"
    }
   ],
   "source": [
    "r=NeighborFill(100,[[1,0,0],[1,1,0],[0,1,1],[0,0,1], [1,0,1], [1,1,0]])\n",
    "r.seedColors()\n",
    "r.paintbyNeighbor(20)\n",
    "plt.imshow(r.empty_img)"
   ]
  },
  {
   "cell_type": "markdown",
   "id": "fffa9209",
   "metadata": {},
   "source": [
    "# Symmetric"
   ]
  },
  {
   "cell_type": "code",
   "execution_count": 37,
   "id": "418ae3d5",
   "metadata": {
    "ExecuteTime": {
     "end_time": "2022-02-18T17:10:43.535366Z",
     "start_time": "2022-02-18T17:10:43.528384Z"
    }
   },
   "outputs": [],
   "source": [
    "def getHsym(img,x,y):\n",
    "    [xsize,ysize, depth]=np.shape(img)\n",
    "    mid=xsize/2\n",
    "    if x>mid:\n",
    "        newX=(xsize-x)\n",
    "    if x<mid:\n",
    "        newX=mid+x\n",
    "    return(int(newX),y)"
   ]
  },
  {
   "cell_type": "code",
   "execution_count": 270,
   "id": "661047e2",
   "metadata": {
    "ExecuteTime": {
     "end_time": "2022-02-21T21:42:24.226501Z",
     "start_time": "2022-02-21T21:42:24.189601Z"
    },
    "code_folding": []
   },
   "outputs": [],
   "source": [
    "class SymmetryFill:\n",
    "    def __init__(self, size, colorlist):\n",
    "        self.size=size\n",
    "        #create empty img\n",
    "        self.empty_img=np.zeros((self.size,self.size,3))\n",
    "        #create self.perms\n",
    "        self.perms=[i for i in permutations(np.arange(0,self.size),2)]\n",
    "        self.perms=self.perms+list(zip(np.arange(self.size), np.arange(self.size)))\n",
    "        np.random.shuffle(self.perms)\n",
    "        self.colorlist=colorlist\n",
    "        self.randdist=[]\n",
    "\n",
    "        #seed\n",
    "        #could make an interesting algorithm where seedeing happens in a pre-defined pattern, like a cross or triangle\n",
    "\n",
    "\n",
    "    def pickRandomColor(self):\n",
    "        #in the case there is no max color, pick randomly\n",
    "        randColor=self.colorlist[np.random.choice(np.arange(0,len(self.colorlist)))]\n",
    "        self.randdist.append(randColor)\n",
    "        return(randColor)\n",
    "        \n",
    "    def paintPixel(self, cord, color):\n",
    "        #paints the pixel a certain color at coordinate given\n",
    "        self.empty_img[cord]=color\n",
    "        return(None)\n",
    "    \n",
    "            \n",
    "    def returnKernel(self,img,cord,k):\n",
    "        #kernel of width k, centered at cord\n",
    "        \n",
    "        [rows, cols, depth]=np.shape(img)#get image dimensions\n",
    "\n",
    "        #get the x axis dimensions\n",
    "        cindx1=cord[0]-k#left boundary\n",
    "        if cindx1<0:#if hits border\n",
    "            cindx1=0#set as border\n",
    "        cindx2=cord[0]+(k+1)#right boundary\n",
    "        if cindx2>rows:#if hits border\n",
    "            cindx2=rows#set as border\n",
    "        #get the y axis dimensions\n",
    "        cindy1=cord[1]-k#bottom boundary\n",
    "        if cindy1<0:#if hits bottom\n",
    "            cindy1=0#set as bottom\n",
    "        cindy2=cord[1]+(k+1)#top boundary\n",
    "        if cindy2>cols:#if hits top\n",
    "            cindy2=cols#set as top\n",
    "            \n",
    "        #put dimensions into index\n",
    "        kernel=img[cindx1:cindx2,cindy1:cindy2,:]\n",
    "    \n",
    "        return(kernel)\n",
    "    \n",
    "    def getColorDist(self,kernel):\n",
    "        self.colorDist=[]\n",
    "        for i in self.colorlist:\n",
    "            self.colorDist.append(np.count_nonzero(np.all(kernel==i,axis=2)))#array of counts only\n",
    "            #order corresponds to colorlist order\n",
    "        return(self.colorDist)\n",
    "    \n",
    "    def getTopColor(self,colorDist,how):\n",
    "        #what if black, in this case colorDist=[0]\n",
    "        if all(v==0 for v in colorDist):\n",
    "            topColor=self.pickRandomColor()\n",
    "#             print('picked random')\n",
    "        else:\n",
    "            #get top index\n",
    "            if how=='top':\n",
    "                topInd=np.argmax(colorDist)\n",
    "#                 print(topInd)\n",
    "                topColor=self.colorlist[topInd]\n",
    "            if how=='prob':\n",
    "                prob=self.colorDist/np.sum(self.colorDist)\n",
    "                topInd=np.random.choice(np.arange(len(self.colorlist)),p=prob)\n",
    "                topColor=self.colorlist[topInd]\n",
    "        return(topColor)\n",
    "    \n",
    "    def getHsym(self,img,x,y):\n",
    "        [xsize,ysize, depth]=np.shape(img)\n",
    "        mid=xsize/2\n",
    "        if x<mid:\n",
    "            newX=mid+(mid-x)\n",
    "        if x>mid:\n",
    "            newX=mid-(x-mid)\n",
    "        elif x==mid:\n",
    "            newX=x\n",
    "        return(y,int(newX-1))\n",
    "    \n",
    "    def paintbyNeighbor(self,k,p,how):\n",
    "        for i in self.perms:\n",
    "            self.cord=i\n",
    "            self.kernel=self.returnKernel(self.empty_img,self.cord,k)\n",
    "            self.colorDist=self.getColorDist(self.kernel)\n",
    "#             print(self.colorDist)\n",
    "            self.maxColor=self.getTopColor(self.colorDist,how)\n",
    "            self.paintPixel(self.cord, self.maxColor)#paint that max color\n",
    "            \n",
    "\n",
    "            #now find symmetric coordinate\n",
    "            if np.random.random()<p: #if get less than symmetry threshold\n",
    "                self.symCord=self.getHsym(self.empty_img, self.cord[1],self.cord[0])#find symmetric cord\n",
    "                #paint symmetric coordinate\n",
    "                self.paintPixel(self.symCord, self.maxColor)#recolor that pixel but don't need to remove\n",
    "\n",
    "    \n",
    "            "
   ]
  },
  {
   "cell_type": "code",
   "execution_count": 108,
   "id": "a0515724",
   "metadata": {
    "ExecuteTime": {
     "end_time": "2022-02-21T20:27:16.140164Z",
     "start_time": "2022-02-21T20:27:16.125079Z"
    }
   },
   "outputs": [],
   "source": [
    "mycols=[[0.34832334, 0.46571115, 0.88834616, 1.        ],\n",
    "       [0.61931795, 0.74412073, 0.99893092, 1.        ],\n",
    "       [0.75361062, 0.83023285, 0.96087116, 1.        ]]"
   ]
  },
  {
   "cell_type": "code",
   "execution_count": 271,
   "id": "a581ac03",
   "metadata": {
    "ExecuteTime": {
     "end_time": "2022-02-21T21:42:27.052753Z",
     "start_time": "2022-02-21T21:42:26.250600Z"
    }
   },
   "outputs": [
    {
     "data": {
      "text/plain": [
       "<matplotlib.image.AxesImage at 0x1d0a961b6a0>"
      ]
     },
     "execution_count": 271,
     "metadata": {},
     "output_type": "execute_result"
    },
    {
     "data": {
      "image/png": "[encoded data removed]",
      "text/plain": [
       "<Figure size 432x288 with 1 Axes>"
      ]
     },
     "metadata": {
      "needs_background": "light"
     },
     "output_type": "display_data"
    }
   ],
   "source": [
    "# r=SymmetryFill(300,[[1,0,0],[0,1,0],[0,0,1],[0,1,1],[1,0,1], [1,1,0]])\n",
    "# r=SymmetryFill(100,[[1,0,0],[1,1,0]])\n",
    "# r=SymmetryFill(300,[[1,0,0],[0,1,0],[0,0,1]])\n",
    "# r=SymmetryFill(10,[[0.5,0.5,0.1],[0.2,0.1,0.1], [0.6,0.1,0]])\n",
    "# r=SymmetryFill(100,[[0,0,1],[1,0,0], [0,1,0]])\n",
    "# r=SymmetryFill(100, [[188,143,143], [255,239,213],[240,128,128]])\n",
    "colorlist=[[139,222,20],[222,103,20],[103,20,222],[0,100,0]]\n",
    "\n",
    "r=SymmetryFill(100, colorlist)\n",
    "\n",
    "r.paintbyNeighbor(1,0.1,'top')\n",
    "plt.imshow(r.empty_img.astype('uint8'))\n",
    "# plt.imshow(r.empty_img)"
   ]
  },
  {
   "cell_type": "code",
   "execution_count": 265,
   "id": "5b545191",
   "metadata": {
    "ExecuteTime": {
     "end_time": "2022-02-21T21:40:40.366587Z",
     "start_time": "2022-02-21T21:40:40.354506Z"
    }
   },
   "outputs": [
    {
     "data": {
      "text/plain": [
       "[8, 0, 0, 0]"
      ]
     },
     "execution_count": 265,
     "metadata": {},
     "output_type": "execute_result"
    }
   ],
   "source": [
    "r.colorDist"
   ]
  },
  {
   "cell_type": "code",
   "execution_count": 210,
   "id": "91a29ffd",
   "metadata": {
    "ExecuteTime": {
     "end_time": "2022-02-21T21:03:03.412954Z",
     "start_time": "2022-02-21T21:03:03.405232Z"
    }
   },
   "outputs": [],
   "source": [
    "import os\n",
    "import imageio"
   ]
  },
  {
   "cell_type": "code",
   "execution_count": 255,
   "id": "68ab2d60",
   "metadata": {
    "ExecuteTime": {
     "end_time": "2022-02-21T21:37:08.024144Z",
     "start_time": "2022-02-21T21:37:08.002278Z"
    }
   },
   "outputs": [],
   "source": [
    "os.chdir(r\"C:\\Users\\al33m\\Box\\JupyterNotebooks\\MyJupyterNotebooks\\Social\\images\\4colors\")"
   ]
  },
  {
   "cell_type": "code",
   "execution_count": 272,
   "id": "a33861c4",
   "metadata": {
    "ExecuteTime": {
     "end_time": "2022-02-21T21:48:13.112790Z",
     "start_time": "2022-02-21T21:42:42.578669Z"
    }
   },
   "outputs": [],
   "source": [
    "size=300\n",
    "# colorlist=[[255,0,0],[0,255,0],[0,0,255]]\n",
    "colorlist=[[139,222,20],[222,103,20],[103,20,222],[20,139,222]]\n",
    "\n",
    "for spat in [1,5,10,15,30]:\n",
    "    for sym in [0,0.1,0.5,1]:\n",
    "        r=SymmetryFill(size, colorlist)\n",
    "        r.paintbyNeighbor(spat,sym,'top')\n",
    "        imageio.imwrite('spat_'+str(spat)+'_sym_'+str(sym)+'_top.png', r.empty_img.astype('uint8'))"
   ]
  },
  {
   "cell_type": "code",
   "execution_count": 155,
   "id": "819033f1",
   "metadata": {
    "ExecuteTime": {
     "end_time": "2022-02-21T20:33:58.747832Z",
     "start_time": "2022-02-21T20:33:58.731801Z"
    }
   },
   "outputs": [],
   "source": [
    "import imageio"
   ]
  },
  {
   "cell_type": "code",
   "execution_count": 159,
   "id": "162ac00b",
   "metadata": {
    "ExecuteTime": {
     "end_time": "2022-02-21T20:35:07.726180Z",
     "start_time": "2022-02-21T20:35:07.636720Z"
    }
   },
   "outputs": [],
   "source": [
    "imageio.imwrite('hey.png', r.empty_img.astype('uint8'))"
   ]
  }
 ],
 "metadata": {
  "kernelspec": {
   "display_name": "Python 3 (ipykernel)",
   "language": "python",
   "name": "python3"
  },
  "language_info": {
   "codemirror_mode": {
    "name": "ipython",
    "version": 3
   },
   "file_extension": ".py",
   "mimetype": "text/x-python",
   "name": "python",
   "nbconvert_exporter": "python",
   "pygments_lexer": "ipython3",
   "version": "3.8.8"
  },
  "toc": {
   "base_numbering": 1,
   "nav_menu": {},
   "number_sections": true,
   "sideBar": true,
   "skip_h1_title": false,
   "title_cell": "Table of Contents",
   "title_sidebar": "Contents",
   "toc_cell": false,
   "toc_position": {},
   "toc_section_display": true,
   "toc_window_display": false
  },
  "varInspector": {
   "cols": {
    "lenName": 16,
    "lenType": 16,
    "lenVar": 40
   },
   "kernels_config": {
    "python": {
     "delete_cmd_postfix": "",
     "delete_cmd_prefix": "del ",
     "library": "var_list.py",
     "varRefreshCmd": "print(var_dic_list())"
    },
    "r": {
     "delete_cmd_postfix": ") ",
     "delete_cmd_prefix": "rm(",
     "library": "var_list.r",
     "varRefreshCmd": "cat(var_dic_list()) "
    }
   },
   "types_to_exclude": [
    "module",
    "function",
    "builtin_function_or_method",
    "instance",
    "_Feature"
   ],
   "window_display": false
  }
 },
 "nbformat": 4,
 "nbformat_minor": 5
}
